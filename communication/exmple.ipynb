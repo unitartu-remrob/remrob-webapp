{
 "cells": [
  {
   "cell_type": "markdown",
   "metadata": {},
   "source": [
    "## Requests"
   ]
  },
  {
   "cell_type": "code",
   "execution_count": 2,
   "metadata": {},
   "outputs": [],
   "source": [
    "import requests"
   ]
  },
  {
   "cell_type": "markdown",
   "metadata": {},
   "source": [
    "### The first two steps are done on backend: \n",
    " 1) check whether user exists and create repo in gitlab if doesn't\n",
    " 2) clone repo\n"
   ]
  },
  {
   "cell_type": "code",
   "execution_count": 8,
   "metadata": {},
   "outputs": [
    {
     "data": {
      "text/plain": [
       "'User existed'"
      ]
     },
     "execution_count": 8,
     "metadata": {},
     "output_type": "execute_result"
    }
   ],
   "source": [
    "requests.get(url='http://localhost:4050/api/v1/check_user', headers={}, params={'user_name': 'test2'}, data={}).text"
   ]
  },
  {
   "cell_type": "code",
   "execution_count": 10,
   "metadata": {},
   "outputs": [
    {
     "data": {
      "text/plain": [
       "'success'"
      ]
     },
     "execution_count": 10,
     "metadata": {},
     "output_type": "execute_result"
    }
   ],
   "source": [
    "params = {\n",
    "    'user_name': 'test2',\n",
    "    'force': 'true' # removes repo if it was present before\n",
    "}\n",
    "requests.get(url='http://localhost:4050/api/v1/clone', headers={}, params=params, data={}).text"
   ]
  },
  {
   "cell_type": "markdown",
   "metadata": {},
   "source": [
    "## At this point docker container with mounted repo can be launched\n",
    "> after the user does corrupt something and wants to restore repo to the previous commit he can call a bash script from **inside** the container which will send this request to the backend to restore the repo\n",
    "\n",
    "\n",
    "Script itself is yet to come\n"
   ]
  },
  {
   "cell_type": "code",
   "execution_count": 12,
   "metadata": {},
   "outputs": [
    {
     "data": {
      "text/plain": [
       "'success'"
      ]
     },
     "execution_count": 12,
     "metadata": {},
     "output_type": "execute_result"
    }
   ],
   "source": [
    "params = {\n",
    "    'token': '32b9ca7a1f2484df88', # this is a session token from inside the container which matches\n",
    "    'force': 'true' # removes repo if it was present before\n",
    "}\n",
    "requests.get(url='http://localhost:4050/api/v1/reclone', headers={}, params=params, data={}).text"
   ]
  },
  {
   "cell_type": "markdown",
   "metadata": {},
   "source": [
    "### After user has finished he can send this request using bash script to automatically add, commit and push"
   ]
  },
  {
   "cell_type": "code",
   "execution_count": 14,
   "metadata": {},
   "outputs": [
    {
     "data": {
      "text/plain": [
       "'success'"
      ]
     },
     "execution_count": 14,
     "metadata": {},
     "output_type": "execute_result"
    }
   ],
   "source": [
    "params = {\n",
    "    'token': '32b9ca7a1f2484df88', # this is a session token from inside the container which matches\n",
    "}\n",
    "requests.get(url='http://localhost:4050/api/v1/commit_push', headers={}, params=params, data={}).text"
   ]
  }
 ],
 "metadata": {
  "kernelspec": {
   "display_name": "Python 3.10.4 ('gitpython')",
   "language": "python",
   "name": "python3"
  },
  "language_info": {
   "codemirror_mode": {
    "name": "ipython",
    "version": 3
   },
   "file_extension": ".py",
   "mimetype": "text/x-python",
   "name": "python",
   "nbconvert_exporter": "python",
   "pygments_lexer": "ipython3",
   "version": "3.10.4"
  },
  "orig_nbformat": 4,
  "vscode": {
   "interpreter": {
    "hash": "48763a1b21564221747c1fd9789efe976e8f35e5641368d7aafb777e7662b3c2"
   }
  }
 },
 "nbformat": 4,
 "nbformat_minor": 2
}
